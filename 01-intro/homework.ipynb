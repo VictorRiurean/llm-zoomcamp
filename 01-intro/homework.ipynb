{
 "cells": [
  {
   "cell_type": "code",
   "execution_count": 2,
   "id": "0cc0a83e-a98a-42e5-87ce-f0b14eaadb76",
   "metadata": {},
   "outputs": [],
   "source": [
    "import openai"
   ]
  },
  {
   "cell_type": "code",
   "execution_count": 3,
   "id": "4f539262-9d1c-450e-847f-c4e5826515fb",
   "metadata": {},
   "outputs": [],
   "source": [
    "from openai import OpenAI"
   ]
  },
  {
   "cell_type": "code",
   "execution_count": 13,
   "id": "261eb7e9-81ad-4733-89a4-fe5d14526f0f",
   "metadata": {},
   "outputs": [],
   "source": [
    "client = OpenAI()"
   ]
  },
  {
   "cell_type": "code",
   "execution_count": 14,
   "id": "9b811ab3-2554-4322-bd8e-a2ce8b30a7f6",
   "metadata": {},
   "outputs": [],
   "source": [
    "import os"
   ]
  },
  {
   "cell_type": "code",
   "execution_count": 15,
   "id": "85248cc1-7b37-40fe-a5c3-ac9be2d9e5a7",
   "metadata": {},
   "outputs": [],
   "source": [
    "response = client.chat.completions.create(\n",
    "    model='gpt-4o',\n",
    "    messages=[{\"role\": \"user\", \"content\": \"is it too late to join the course?\"}]\n",
    ")"
   ]
  },
  {
   "cell_type": "code",
   "execution_count": 18,
   "id": "0b4378e7-c3b2-47e4-b657-89cc6594b80c",
   "metadata": {},
   "outputs": [
    {
     "data": {
      "text/plain": [
       "\"It's never too late to ask! Whether you can still join a course depends on several factors, such as the specific policies of the institution offering the course, the course's start date, and its enrollment deadlines. Here are a few steps you can take to find out if you can still join:\\n\\n1. **Check the Course Website:** Often, the course's webpage will have information regarding enrollment deadlines.\\n  \\n2. **Contact the Instructor or Institution:** Reach out directly to the course instructor or the admissions office. They can provide the most accurate information regarding your particular situation.\\n\\n3. **Look for Alternative Sessions:** If the course is already underway or full, see if the institution offers another session soon or if you can join a waitlist.\\n\\n4. **Consider Online or Self-Paced Options:** Some institutions offer online or self-paced versions of their courses, which might have more flexible enrollment policies.\\n\\nIf you provide more specific information about the course and institution, I might be able to offer more targeted advice!\""
      ]
     },
     "execution_count": 18,
     "metadata": {},
     "output_type": "execute_result"
    }
   ],
   "source": [
    "response.choices[0].message.content"
   ]
  }
 ],
 "metadata": {
  "kernelspec": {
   "display_name": "Python 3 (ipykernel)",
   "language": "python",
   "name": "python3"
  },
  "language_info": {
   "codemirror_mode": {
    "name": "ipython",
    "version": 3
   },
   "file_extension": ".py",
   "mimetype": "text/x-python",
   "name": "python",
   "nbconvert_exporter": "python",
   "pygments_lexer": "ipython3",
   "version": "3.10.13"
  }
 },
 "nbformat": 4,
 "nbformat_minor": 5
}
