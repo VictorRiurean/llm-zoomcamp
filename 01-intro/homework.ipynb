{
 "cells": [
  {
   "cell_type": "code",
   "execution_count": 3,
   "id": "0cc0a83e-a98a-42e5-87ce-f0b14eaadb76",
   "metadata": {},
   "outputs": [],
   "source": [
    "import openai"
   ]
  },
  {
   "cell_type": "code",
   "execution_count": 4,
   "id": "4f539262-9d1c-450e-847f-c4e5826515fb",
   "metadata": {},
   "outputs": [],
   "source": [
    "from openai import OpenAI"
   ]
  },
  {
   "cell_type": "code",
   "execution_count": 5,
   "id": "261eb7e9-81ad-4733-89a4-fe5d14526f0f",
   "metadata": {},
   "outputs": [],
   "source": [
    "client = OpenAI()"
   ]
  },
  {
   "cell_type": "code",
   "execution_count": 6,
   "id": "9b811ab3-2554-4322-bd8e-a2ce8b30a7f6",
   "metadata": {},
   "outputs": [],
   "source": [
    "import os"
   ]
  },
  {
   "cell_type": "code",
   "execution_count": 7,
   "id": "85248cc1-7b37-40fe-a5c3-ac9be2d9e5a7",
   "metadata": {},
   "outputs": [],
   "source": [
    "response = client.chat.completions.create(\n",
    "    model='gpt-4o',\n",
    "    messages=[{\"role\": \"user\", \"content\": \"is it too late to join the course?\"}]\n",
    ")"
   ]
  },
  {
   "cell_type": "code",
   "execution_count": 8,
   "id": "0b4378e7-c3b2-47e4-b657-89cc6594b80c",
   "metadata": {},
   "outputs": [
    {
     "data": {
      "text/plain": [
       "\"I'm not sure which specific course you're referring to, but here are some general steps you can take to find out if it's too late to join:\\n\\n1. **Check the Course Website**: Most courses have an official website where they list important dates and deadlines.\\n\\n2. **Contact the Instructor or Administration**: Reach out via email or phone to the course instructor or the administrative office. They can provide the most accurate information regarding enrollment deadlines.\\n\\n3. **Look for Late Enrollment Options**: Some courses allow for late enrollment, sometimes with a penalty or specific conditions.\\n\\n4. **Online Learning Platforms**: If it's an online course, platforms like Coursera, edX, Udemy, and others often have rolling admissions or start dates spread throughout the year.\\n\\n5. **Academic Calendar**: If it's a university or college course, checking the institution’s academic calendar website should give you details on enrollment periods and any late registration opportunities.\\n\\n6. **Social Media and Forums**: Sometimes instructors or institutions post updates on social media or forums that can give you the latest information.\\n\\nCan you provide more details about the course you're interested in? That way, I could offer more specific advice.\""
      ]
     },
     "execution_count": 8,
     "metadata": {},
     "output_type": "execute_result"
    }
   ],
   "source": [
    "response.choices[0].message.content"
   ]
  }
 ],
 "metadata": {
  "kernelspec": {
   "display_name": "Python 3 (ipykernel)",
   "language": "python",
   "name": "python3"
  },
  "language_info": {
   "codemirror_mode": {
    "name": "ipython",
    "version": 3
   },
   "file_extension": ".py",
   "mimetype": "text/x-python",
   "name": "python",
   "nbconvert_exporter": "python",
   "pygments_lexer": "ipython3",
   "version": "3.10.13"
  }
 },
 "nbformat": 4,
 "nbformat_minor": 5
}
